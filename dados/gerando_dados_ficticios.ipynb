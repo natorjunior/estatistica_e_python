{
 "cells": [
  {
   "cell_type": "code",
   "execution_count": 8,
   "metadata": {},
   "outputs": [
    {
     "data": {
      "text/html": [
       "<div>\n",
       "<style scoped>\n",
       "    .dataframe tbody tr th:only-of-type {\n",
       "        vertical-align: middle;\n",
       "    }\n",
       "\n",
       "    .dataframe tbody tr th {\n",
       "        vertical-align: top;\n",
       "    }\n",
       "\n",
       "    .dataframe thead th {\n",
       "        text-align: right;\n",
       "    }\n",
       "</style>\n",
       "<table border=\"1\" class=\"dataframe\">\n",
       "  <thead>\n",
       "    <tr style=\"text-align: right;\">\n",
       "      <th></th>\n",
       "      <th>Nome</th>\n",
       "      <th>Idade</th>\n",
       "      <th>Faixa Etária</th>\n",
       "      <th>Fruta Preferida</th>\n",
       "    </tr>\n",
       "  </thead>\n",
       "  <tbody>\n",
       "    <tr>\n",
       "      <th>0</th>\n",
       "      <td>Julia_2bf2</td>\n",
       "      <td>15</td>\n",
       "      <td>13-15 anos</td>\n",
       "      <td>Banana</td>\n",
       "    </tr>\n",
       "    <tr>\n",
       "      <th>1</th>\n",
       "      <td>Pedro_75cc</td>\n",
       "      <td>17</td>\n",
       "      <td>16-18 anos</td>\n",
       "      <td>Maçã</td>\n",
       "    </tr>\n",
       "    <tr>\n",
       "      <th>2</th>\n",
       "      <td>Ana_dd99</td>\n",
       "      <td>13</td>\n",
       "      <td>13-15 anos</td>\n",
       "      <td>Banana</td>\n",
       "    </tr>\n",
       "    <tr>\n",
       "      <th>3</th>\n",
       "      <td>Carla_d08d</td>\n",
       "      <td>13</td>\n",
       "      <td>13-15 anos</td>\n",
       "      <td>Laranja</td>\n",
       "    </tr>\n",
       "    <tr>\n",
       "      <th>4</th>\n",
       "      <td>Ana_3f60</td>\n",
       "      <td>15</td>\n",
       "      <td>13-15 anos</td>\n",
       "      <td>Maçã</td>\n",
       "    </tr>\n",
       "  </tbody>\n",
       "</table>\n",
       "</div>"
      ],
      "text/plain": [
       "         Nome  Idade Faixa Etária Fruta Preferida\n",
       "0  Julia_2bf2     15   13-15 anos          Banana\n",
       "1  Pedro_75cc     17   16-18 anos            Maçã\n",
       "2    Ana_dd99     13   13-15 anos          Banana\n",
       "3  Carla_d08d     13   13-15 anos         Laranja\n",
       "4    Ana_3f60     15   13-15 anos            Maçã"
      ]
     },
     "execution_count": 8,
     "metadata": {},
     "output_type": "execute_result"
    }
   ],
   "source": [
    "import pandas as pd\n",
    "import numpy as np\n",
    "import random\n",
    "import hashlib\n",
    "\n",
    "# Função para gerar um nome único e realista\n",
    "def gerar_nome_unico_realista(base, index):\n",
    "    nome = f\"{base}_{index}\"\n",
    "    hash_nome = hashlib.sha1(nome.encode()).hexdigest()[:4]  # Usando os primeiros 4 caracteres do hash SHA-1\n",
    "    return f\"{base}_{hash_nome}\"\n",
    "\n",
    "# Lista de nomes fictícios\n",
    "nomes_ficticios = [\"Alex\", \"Maria\", \"João\", \"Ana\", \"Pedro\", \"Julia\", \"Lucas\", \"Luana\", \"Felipe\", \"Carla\"]\n",
    "\n",
    "# Número de dados desejado\n",
    "num_dados = 1000\n",
    "\n",
    "# Gerando dados aleatórios\n",
    "np.random.seed(0)  # Para garantir a reprodutibilidade\n",
    "idades = np.random.choice(['10-12 anos', '13-15 anos', '16-18 anos'], size=num_dados, p=[0.3, 0.4, 0.3])\n",
    "frutas = np.random.choice(['Maçã', 'Banana', 'Laranja'], size=num_dados, p=[0.3, 0.4, 0.3])\n",
    "nomes_unicos_realistas = [gerar_nome_unico_realista(random.choice(nomes_ficticios), i) for i in range(num_dados)]\n",
    "\n",
    "# Criando o DataFrame\n",
    "dados_expandidos = pd.DataFrame({\n",
    "    'Nome': nomes_unicos_realistas,\n",
    "    'Idade': [random.choice(range(10, 13)) if faixa == \"10-12 anos\" else \n",
    "              (random.choice(range(13, 16)) if faixa == \"13-15 anos\" else \n",
    "               random.choice(range(16, 19))) for faixa in idades],\n",
    "    'Faixa Etária': idades,\n",
    "    'Fruta Preferida': frutas\n",
    "})\n",
    "\n",
    "dados_expandidos.head()\n"
   ]
  },
  {
   "cell_type": "code",
   "execution_count": 10,
   "metadata": {},
   "outputs": [],
   "source": [
    "dados_expandidos.to_csv('dados_pesquisa_fruta_preferida.csv')"
   ]
  },
  {
   "cell_type": "code",
   "execution_count": null,
   "metadata": {},
   "outputs": [],
   "source": []
  },
  {
   "cell_type": "code",
   "execution_count": null,
   "metadata": {},
   "outputs": [],
   "source": []
  }
 ],
 "metadata": {
  "kernelspec": {
   "display_name": "Python 3",
   "language": "python",
   "name": "python3"
  },
  "language_info": {
   "codemirror_mode": {
    "name": "ipython",
    "version": 3
   },
   "file_extension": ".py",
   "mimetype": "text/x-python",
   "name": "python",
   "nbconvert_exporter": "python",
   "pygments_lexer": "ipython3",
   "version": "3.9.6"
  }
 },
 "nbformat": 4,
 "nbformat_minor": 2
}
